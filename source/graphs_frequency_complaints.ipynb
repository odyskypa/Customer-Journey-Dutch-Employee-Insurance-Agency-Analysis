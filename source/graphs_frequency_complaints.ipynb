{
 "cells": [
  {
   "cell_type": "code",
   "execution_count": 9,
   "metadata": {},
   "outputs": [],
   "source": [
    "# Loading libraries\n",
    "import os\n",
    "import pandas as pd\n",
    "import matplotlib.pyplot as plt\n",
    "import matplotlib.mlab as mlab"
   ]
  },
  {
   "cell_type": "code",
   "execution_count": 10,
   "metadata": {},
   "outputs": [],
   "source": [
    "# Loading data\n",
    "path = os.getcwd()"
   ]
  },
  {
   "cell_type": "code",
   "execution_count": 11,
   "metadata": {},
   "outputs": [],
   "source": [
    "df_complaints = pd.read_csv(os.path.join(path, 'BPI2016_Complaints.csv'), sep=\";\", encoding='latin-1')"
   ]
  },
  {
   "cell_type": "code",
   "execution_count": 12,
   "metadata": {},
   "outputs": [],
   "source": [
    "# Change format\n",
    "df_complaints['ContactDate'] = pd.to_datetime(df_complaints['ContactDate'], format='%Y-%m-%d')"
   ]
  },
  {
   "cell_type": "code",
   "execution_count": 13,
   "metadata": {},
   "outputs": [],
   "source": [
    "# Create new column\n",
    "df_complaints['Month'] = df_complaints['ContactDate'].dt.strftime('%m')"
   ]
  },
  {
   "cell_type": "code",
   "execution_count": 14,
   "metadata": {},
   "outputs": [
    {
     "data": {
      "text/html": [
       "<div>\n",
       "<style scoped>\n",
       "    .dataframe tbody tr th:only-of-type {\n",
       "        vertical-align: middle;\n",
       "    }\n",
       "\n",
       "    .dataframe tbody tr th {\n",
       "        vertical-align: top;\n",
       "    }\n",
       "\n",
       "    .dataframe thead th {\n",
       "        text-align: right;\n",
       "    }\n",
       "</style>\n",
       "<table border=\"1\" class=\"dataframe\">\n",
       "  <thead>\n",
       "    <tr style=\"text-align: right;\">\n",
       "      <th></th>\n",
       "      <th>CustomerID</th>\n",
       "      <th>AgeCategory</th>\n",
       "      <th>Gender</th>\n",
       "      <th>Office_U</th>\n",
       "      <th>Office_W</th>\n",
       "      <th>ComplaintDossierID</th>\n",
       "      <th>ComplaintID</th>\n",
       "      <th>ContactDate</th>\n",
       "      <th>ContactChannelID</th>\n",
       "      <th>ComplaintThemeID</th>\n",
       "      <th>ComplaintSubthemeID</th>\n",
       "      <th>ComplaintTopicID</th>\n",
       "      <th>ComplaintTheme</th>\n",
       "      <th>ComplaintSubtheme</th>\n",
       "      <th>ComplaintTopic</th>\n",
       "      <th>ComplaintTheme_EN</th>\n",
       "      <th>ComplaintSubtheme_EN</th>\n",
       "      <th>ComplaintTopic_EN</th>\n",
       "      <th>Month</th>\n",
       "    </tr>\n",
       "  </thead>\n",
       "  <tbody>\n",
       "    <tr>\n",
       "      <th>4</th>\n",
       "      <td>1202227</td>\n",
       "      <td>30-39</td>\n",
       "      <td>V</td>\n",
       "      <td>280</td>\n",
       "      <td>283</td>\n",
       "      <td>3</td>\n",
       "      <td>6</td>\n",
       "      <td>2015-07-07</td>\n",
       "      <td>5</td>\n",
       "      <td>3</td>\n",
       "      <td>4</td>\n",
       "      <td>2</td>\n",
       "      <td>dienstverlening</td>\n",
       "      <td>informatie / communicatie naar de klant</td>\n",
       "      <td>(meerdere) verzoeken, te weinig resultaat</td>\n",
       "      <td>services</td>\n",
       "      <td>information/communication to the customer</td>\n",
       "      <td>(Multiple) requests, to little avail</td>\n",
       "      <td>07</td>\n",
       "    </tr>\n",
       "    <tr>\n",
       "      <th>5</th>\n",
       "      <td>2016564</td>\n",
       "      <td>40-49</td>\n",
       "      <td>V</td>\n",
       "      <td>238</td>\n",
       "      <td>241</td>\n",
       "      <td>5</td>\n",
       "      <td>9</td>\n",
       "      <td>2015-07-09</td>\n",
       "      <td>8</td>\n",
       "      <td>3</td>\n",
       "      <td>4</td>\n",
       "      <td>2</td>\n",
       "      <td>dienstverlening</td>\n",
       "      <td>informatie / communicatie naar de klant</td>\n",
       "      <td>(meerdere) verzoeken, te weinig resultaat</td>\n",
       "      <td>services</td>\n",
       "      <td>information/communication to the customer</td>\n",
       "      <td>(Multiple) requests, to little avail</td>\n",
       "      <td>07</td>\n",
       "    </tr>\n",
       "    <tr>\n",
       "      <th>6</th>\n",
       "      <td>2060596</td>\n",
       "      <td>50-65</td>\n",
       "      <td>M</td>\n",
       "      <td>313</td>\n",
       "      <td>318</td>\n",
       "      <td>20</td>\n",
       "      <td>25</td>\n",
       "      <td>2015-08-18</td>\n",
       "      <td>8</td>\n",
       "      <td>3</td>\n",
       "      <td>4</td>\n",
       "      <td>2</td>\n",
       "      <td>dienstverlening</td>\n",
       "      <td>informatie / communicatie naar de klant</td>\n",
       "      <td>(meerdere) verzoeken, te weinig resultaat</td>\n",
       "      <td>services</td>\n",
       "      <td>information/communication to the customer</td>\n",
       "      <td>(Multiple) requests, to little avail</td>\n",
       "      <td>08</td>\n",
       "    </tr>\n",
       "    <tr>\n",
       "      <th>58</th>\n",
       "      <td>1604792</td>\n",
       "      <td>50-65</td>\n",
       "      <td>V</td>\n",
       "      <td>257</td>\n",
       "      <td>291</td>\n",
       "      <td>78</td>\n",
       "      <td>91</td>\n",
       "      <td>2015-10-23</td>\n",
       "      <td>8</td>\n",
       "      <td>3</td>\n",
       "      <td>1</td>\n",
       "      <td>16</td>\n",
       "      <td>dienstverlening</td>\n",
       "      <td>begeleiding / behandeling</td>\n",
       "      <td>geen interne communicatie / overdracht gegevens</td>\n",
       "      <td>services</td>\n",
       "      <td>support/handling</td>\n",
       "      <td>no internal communication/data transfer</td>\n",
       "      <td>10</td>\n",
       "    </tr>\n",
       "    <tr>\n",
       "      <th>69</th>\n",
       "      <td>2060596</td>\n",
       "      <td>50-65</td>\n",
       "      <td>M</td>\n",
       "      <td>313</td>\n",
       "      <td>318</td>\n",
       "      <td>38</td>\n",
       "      <td>48</td>\n",
       "      <td>2015-09-17</td>\n",
       "      <td>8</td>\n",
       "      <td>2</td>\n",
       "      <td>5</td>\n",
       "      <td>20</td>\n",
       "      <td>bejegening (houding / gedrag)</td>\n",
       "      <td>n.v.t.</td>\n",
       "      <td>geen respect / niet serieus genomen</td>\n",
       "      <td>treatment (attitude/behavior)</td>\n",
       "      <td>N.A.</td>\n",
       "      <td>no respect/not taken seriously</td>\n",
       "      <td>09</td>\n",
       "    </tr>\n",
       "  </tbody>\n",
       "</table>\n",
       "</div>"
      ],
      "text/plain": [
       "    CustomerID AgeCategory Gender  Office_U  Office_W  ComplaintDossierID  \\\n",
       "4      1202227       30-39      V       280       283                   3   \n",
       "5      2016564       40-49      V       238       241                   5   \n",
       "6      2060596       50-65      M       313       318                  20   \n",
       "58     1604792       50-65      V       257       291                  78   \n",
       "69     2060596       50-65      M       313       318                  38   \n",
       "\n",
       "    ComplaintID ContactDate  ContactChannelID  ComplaintThemeID  \\\n",
       "4             6  2015-07-07                 5                 3   \n",
       "5             9  2015-07-09                 8                 3   \n",
       "6            25  2015-08-18                 8                 3   \n",
       "58           91  2015-10-23                 8                 3   \n",
       "69           48  2015-09-17                 8                 2   \n",
       "\n",
       "    ComplaintSubthemeID  ComplaintTopicID                 ComplaintTheme  \\\n",
       "4                     4                 2                dienstverlening   \n",
       "5                     4                 2                dienstverlening   \n",
       "6                     4                 2                dienstverlening   \n",
       "58                    1                16                dienstverlening   \n",
       "69                    5                20  bejegening (houding / gedrag)   \n",
       "\n",
       "                          ComplaintSubtheme  \\\n",
       "4   informatie / communicatie naar de klant   \n",
       "5   informatie / communicatie naar de klant   \n",
       "6   informatie / communicatie naar de klant   \n",
       "58                begeleiding / behandeling   \n",
       "69                                   n.v.t.   \n",
       "\n",
       "                                     ComplaintTopic  \\\n",
       "4         (meerdere) verzoeken, te weinig resultaat   \n",
       "5         (meerdere) verzoeken, te weinig resultaat   \n",
       "6         (meerdere) verzoeken, te weinig resultaat   \n",
       "58  geen interne communicatie / overdracht gegevens   \n",
       "69              geen respect / niet serieus genomen   \n",
       "\n",
       "                ComplaintTheme_EN                       ComplaintSubtheme_EN  \\\n",
       "4                        services  information/communication to the customer   \n",
       "5                        services  information/communication to the customer   \n",
       "6                        services  information/communication to the customer   \n",
       "58                       services                           support/handling   \n",
       "69  treatment (attitude/behavior)                                       N.A.   \n",
       "\n",
       "                          ComplaintTopic_EN Month  \n",
       "4      (Multiple) requests, to little avail    07  \n",
       "5      (Multiple) requests, to little avail    07  \n",
       "6      (Multiple) requests, to little avail    08  \n",
       "58  no internal communication/data transfer    10  \n",
       "69           no respect/not taken seriously    09  "
      ]
     },
     "execution_count": 14,
     "metadata": {},
     "output_type": "execute_result"
    }
   ],
   "source": [
    "# Keeping the top 5 most complaining customers\n",
    "df_complaints = df_complaints.loc[df_complaints['CustomerID'].isin([1202227,1373382,2016564,2060596,1604792])]\n",
    "df_complaints.head()"
   ]
  },
  {
   "cell_type": "code",
   "execution_count": 15,
   "metadata": {},
   "outputs": [],
   "source": [
    "#Group by complaints\n",
    "counts_type_complaints = df_complaints.groupby(['ComplaintTopic_EN']).count().unstack()\n",
    "type_complaints = counts_type_complaints.CustomerID"
   ]
  },
  {
   "cell_type": "code",
   "execution_count": 16,
   "metadata": {},
   "outputs": [
    {
     "data": {
      "image/png": "[encoded data removed]",
      "text/plain": [
       "<Figure size 432x288 with 1 Axes>"
      ]
     },
     "metadata": {
      "needs_background": "light"
     },
     "output_type": "display_data"
    }
   ],
   "source": [
    "ax = type_complaints.sort_values(ascending = False).plot(kind='bar',stacked = False, colormap='tab20')\n",
    "\n",
    "plt.xticks(rotation = 90)\n",
    "plt.ylabel ('Frequency')\n",
    "plt.title('Number of complaints by topic')\n",
    "plt.grid(axis = 'y', linestyle = '--', linewidth = 0.3)\n",
    "plt.show()"
   ]
  },
  {
   "cell_type": "code",
   "execution_count": 17,
   "metadata": {},
   "outputs": [
    {
     "data": {
      "text/html": [
       "<div>\n",
       "<style scoped>\n",
       "    .dataframe tbody tr th:only-of-type {\n",
       "        vertical-align: middle;\n",
       "    }\n",
       "\n",
       "    .dataframe tbody tr th {\n",
       "        vertical-align: top;\n",
       "    }\n",
       "\n",
       "    .dataframe thead th {\n",
       "        text-align: right;\n",
       "    }\n",
       "</style>\n",
       "<table border=\"1\" class=\"dataframe\">\n",
       "  <thead>\n",
       "    <tr style=\"text-align: right;\">\n",
       "      <th>Gender</th>\n",
       "      <th>M</th>\n",
       "      <th>V</th>\n",
       "    </tr>\n",
       "    <tr>\n",
       "      <th>Month</th>\n",
       "      <th></th>\n",
       "      <th></th>\n",
       "    </tr>\n",
       "  </thead>\n",
       "  <tbody>\n",
       "    <tr>\n",
       "      <th>07</th>\n",
       "      <td>NaN</td>\n",
       "      <td>7.0</td>\n",
       "    </tr>\n",
       "    <tr>\n",
       "      <th>08</th>\n",
       "      <td>2.0</td>\n",
       "      <td>NaN</td>\n",
       "    </tr>\n",
       "    <tr>\n",
       "      <th>09</th>\n",
       "      <td>2.0</td>\n",
       "      <td>NaN</td>\n",
       "    </tr>\n",
       "    <tr>\n",
       "      <th>10</th>\n",
       "      <td>NaN</td>\n",
       "      <td>8.0</td>\n",
       "    </tr>\n",
       "    <tr>\n",
       "      <th>11</th>\n",
       "      <td>NaN</td>\n",
       "      <td>1.0</td>\n",
       "    </tr>\n",
       "    <tr>\n",
       "      <th>12</th>\n",
       "      <td>NaN</td>\n",
       "      <td>1.0</td>\n",
       "    </tr>\n",
       "  </tbody>\n",
       "</table>\n",
       "</div>"
      ],
      "text/plain": [
       "Gender    M    V\n",
       "Month           \n",
       "07      NaN  7.0\n",
       "08      2.0  NaN\n",
       "09      2.0  NaN\n",
       "10      NaN  8.0\n",
       "11      NaN  1.0\n",
       "12      NaN  1.0"
      ]
     },
     "execution_count": 17,
     "metadata": {},
     "output_type": "execute_result"
    }
   ],
   "source": [
    "# Group by Month and Gender\n",
    "counts = df_complaints.groupby(['Month', 'Gender']).count().unstack()\n",
    "counts.CustomerID"
   ]
  },
  {
   "cell_type": "code",
   "execution_count": 18,
   "metadata": {},
   "outputs": [
    {
     "data": {
      "image/png": "[encoded data removed]",
      "text/plain": [
       "<Figure size 432x288 with 1 Axes>"
      ]
     },
     "metadata": {
      "needs_background": "light"
     },
     "output_type": "display_data"
    }
   ],
   "source": [
    "ax = counts.CustomerID.plot(kind='bar',stacked = False, colormap='tab20')\n",
    "\n",
    "plt.xlabel ('Month')\n",
    "plt.xticks(rotation = 45)\n",
    "plt.ylabel ('Frequency')\n",
    "plt.title('Number of complaints by gender each month')\n",
    "plt.legend(title='Gender', bbox_to_anchor=(1.04, 0.5), loc=\"upper left\", labels=['Male', 'Female'])\n",
    "plt.grid(axis = 'y', linestyle = '--', linewidth = 0.3)\n",
    "plt.show()"
   ]
  },
  {
   "cell_type": "code",
   "execution_count": 19,
   "metadata": {},
   "outputs": [
    {
     "data": {
      "text/html": [
       "<div>\n",
       "<style scoped>\n",
       "    .dataframe tbody tr th:only-of-type {\n",
       "        vertical-align: middle;\n",
       "    }\n",
       "\n",
       "    .dataframe tbody tr th {\n",
       "        vertical-align: top;\n",
       "    }\n",
       "\n",
       "    .dataframe thead th {\n",
       "        text-align: right;\n",
       "    }\n",
       "</style>\n",
       "<table border=\"1\" class=\"dataframe\">\n",
       "  <thead>\n",
       "    <tr style=\"text-align: right;\">\n",
       "      <th>AgeCategory</th>\n",
       "      <th>30-39</th>\n",
       "      <th>40-49</th>\n",
       "      <th>50-65</th>\n",
       "    </tr>\n",
       "    <tr>\n",
       "      <th>Month</th>\n",
       "      <th></th>\n",
       "      <th></th>\n",
       "      <th></th>\n",
       "    </tr>\n",
       "  </thead>\n",
       "  <tbody>\n",
       "    <tr>\n",
       "      <th>07</th>\n",
       "      <td>5.0</td>\n",
       "      <td>2.0</td>\n",
       "      <td>NaN</td>\n",
       "    </tr>\n",
       "    <tr>\n",
       "      <th>08</th>\n",
       "      <td>NaN</td>\n",
       "      <td>NaN</td>\n",
       "      <td>2.0</td>\n",
       "    </tr>\n",
       "    <tr>\n",
       "      <th>09</th>\n",
       "      <td>NaN</td>\n",
       "      <td>NaN</td>\n",
       "      <td>2.0</td>\n",
       "    </tr>\n",
       "    <tr>\n",
       "      <th>10</th>\n",
       "      <td>2.0</td>\n",
       "      <td>2.0</td>\n",
       "      <td>4.0</td>\n",
       "    </tr>\n",
       "    <tr>\n",
       "      <th>11</th>\n",
       "      <td>1.0</td>\n",
       "      <td>NaN</td>\n",
       "      <td>NaN</td>\n",
       "    </tr>\n",
       "    <tr>\n",
       "      <th>12</th>\n",
       "      <td>1.0</td>\n",
       "      <td>NaN</td>\n",
       "      <td>NaN</td>\n",
       "    </tr>\n",
       "  </tbody>\n",
       "</table>\n",
       "</div>"
      ],
      "text/plain": [
       "AgeCategory  30-39  40-49  50-65\n",
       "Month                           \n",
       "07             5.0    2.0    NaN\n",
       "08             NaN    NaN    2.0\n",
       "09             NaN    NaN    2.0\n",
       "10             2.0    2.0    4.0\n",
       "11             1.0    NaN    NaN\n",
       "12             1.0    NaN    NaN"
      ]
     },
     "execution_count": 19,
     "metadata": {},
     "output_type": "execute_result"
    }
   ],
   "source": [
    "# Group by Month and Age Category\n",
    "counts_age = df_complaints.groupby(['Month', 'AgeCategory']).count().unstack()\n",
    "counts_age.CustomerID"
   ]
  },
  {
   "cell_type": "code",
   "execution_count": 20,
   "metadata": {},
   "outputs": [
    {
     "data": {
      "image/png": "[encoded data removed]",
      "text/plain": [
       "<Figure size 432x288 with 1 Axes>"
      ]
     },
     "metadata": {
      "needs_background": "light"
     },
     "output_type": "display_data"
    }
   ],
   "source": [
    "ax = counts_age.CustomerID.plot(kind='bar',stacked = False, colormap='tab20')\n",
    "\n",
    "plt.xlabel ('Month')\n",
    "plt.xticks(rotation = 45)\n",
    "plt.ylabel ('Frequency')\n",
    "plt.title('Number of complaints by age category each month')\n",
    "plt.legend(title='AgeCategory', bbox_to_anchor=(1.04, 0.5), loc=\"upper left\", labels=['30-39', '40-49', '50-65', '50-65'])\n",
    "plt.grid(axis = 'y', linestyle = '--', linewidth = 0.3)\n",
    "plt.show()"
   ]
  }
 ],
 "metadata": {
  "kernelspec": {
   "display_name": "Python 3",
   "language": "python",
   "name": "python3"
  },
  "language_info": {
   "codemirror_mode": {
    "name": "ipython",
    "version": 3
   },
   "file_extension": ".py",
   "mimetype": "text/x-python",
   "name": "python",
   "nbconvert_exporter": "python",
   "pygments_lexer": "ipython3",
   "version": "3.7.1"
  }
 },
 "nbformat": 4,
 "nbformat_minor": 4
}
